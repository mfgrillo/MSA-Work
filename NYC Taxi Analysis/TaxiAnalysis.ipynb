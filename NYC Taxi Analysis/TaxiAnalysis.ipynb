{
 "cells": [
  {
   "cell_type": "markdown",
   "metadata": {},
   "source": [
    "# HW3 - Q3 [35 pts]"
   ]
  },
  {
   "cell_type": "code",
   "execution_count": 1,
   "metadata": {
    "execution": {
     "iopub.execute_input": "2022-10-27T14:22:33.892459Z",
     "iopub.status.busy": "2022-10-27T14:22:33.892140Z",
     "iopub.status.idle": "2022-10-27T14:23:19.844298Z",
     "shell.execute_reply": "2022-10-27T14:23:19.843593Z",
     "shell.execute_reply.started": "2022-10-27T14:22:33.892424Z"
    },
    "tags": []
   },
   "outputs": [
    {
     "data": {
      "application/vnd.jupyter.widget-view+json": {
       "model_id": "fa2a667f0fed4444b8e70010b210b9d5",
       "version_major": 2,
       "version_minor": 0
      },
      "text/plain": [
       "VBox()"
      ]
     },
     "metadata": {},
     "output_type": "display_data"
    },
    {
     "name": "stdout",
     "output_type": "stream",
     "text": [
      "Starting Spark application\n"
     ]
    },
    {
     "data": {
      "text/html": [
       "<table>\n",
       "<tr><th>ID</th><th>YARN Application ID</th><th>Kind</th><th>State</th><th>Spark UI</th><th>Driver log</th><th>User</th><th>Current session?</th></tr><tr><td>0</td><td>application_1666880362476_0001</td><td>pyspark</td><td>idle</td><td><a target=\"_blank\" href=\"http://ip-172-31-36-98.ec2.internal:20888/proxy/application_1666880362476_0001/\" class=\"emr-proxy-link\" emr-resource=\"j-DSYPXNS6OYXB\n",
       "\" application-id=\"application_1666880362476_0001\">Link</a></td><td><a target=\"_blank\" href=\"http://ip-172-31-45-37.ec2.internal:8042/node/containerlogs/container_1666880362476_0001_01_000001/livy\" >Link</a></td><td>None</td><td>✔</td></tr></table>"
      ],
      "text/plain": [
       "<IPython.core.display.HTML object>"
      ]
     },
     "metadata": {},
     "output_type": "display_data"
    },
    {
     "data": {
      "application/vnd.jupyter.widget-view+json": {
       "model_id": "",
       "version_major": 2,
       "version_minor": 0
      },
      "text/plain": [
       "FloatProgress(value=0.0, bar_style='info', description='Progress:', layout=Layout(height='25px', width='50%'),…"
      ]
     },
     "metadata": {},
     "output_type": "display_data"
    },
    {
     "name": "stdout",
     "output_type": "stream",
     "text": [
      "SparkSession available as 'spark'.\n"
     ]
    },
    {
     "data": {
      "application/vnd.jupyter.widget-view+json": {
       "model_id": "",
       "version_major": 2,
       "version_minor": 0
      },
      "text/plain": [
       "FloatProgress(value=0.0, bar_style='info', description='Progress:', layout=Layout(height='25px', width='50%'),…"
      ]
     },
     "metadata": {},
     "output_type": "display_data"
    },
    {
     "name": "stdout",
     "output_type": "stream",
     "text": [
      "<SparkContext master=yarn appName=livy-session-0>"
     ]
    }
   ],
   "source": [
    "sc"
   ]
  },
  {
   "cell_type": "code",
   "execution_count": 2,
   "metadata": {
    "execution": {
     "iopub.execute_input": "2022-10-27T14:23:19.845596Z",
     "iopub.status.busy": "2022-10-27T14:23:19.845404Z",
     "iopub.status.idle": "2022-10-27T14:23:20.147599Z",
     "shell.execute_reply": "2022-10-27T14:23:20.146830Z",
     "shell.execute_reply.started": "2022-10-27T14:23:19.845571Z"
    },
    "tags": []
   },
   "outputs": [
    {
     "data": {
      "application/vnd.jupyter.widget-view+json": {
       "model_id": "ef455f830c6a4a13bd769ab58662161e",
       "version_major": 2,
       "version_minor": 0
      },
      "text/plain": [
       "VBox()"
      ]
     },
     "metadata": {},
     "output_type": "display_data"
    },
    {
     "data": {
      "application/vnd.jupyter.widget-view+json": {
       "model_id": "",
       "version_major": 2,
       "version_minor": 0
      },
      "text/plain": [
       "FloatProgress(value=0.0, bar_style='info', description='Progress:', layout=Layout(height='25px', width='50%'),…"
      ]
     },
     "metadata": {},
     "output_type": "display_data"
    }
   ],
   "source": [
    "#export\n",
    "from pyspark.sql.functions import col\n",
    "from pyspark.sql import *"
   ]
  },
  {
   "cell_type": "code",
   "execution_count": 3,
   "metadata": {
    "execution": {
     "iopub.execute_input": "2022-10-27T14:23:20.149587Z",
     "iopub.status.busy": "2022-10-27T14:23:20.149177Z",
     "iopub.status.idle": "2022-10-27T14:23:20.245553Z",
     "shell.execute_reply": "2022-10-27T14:23:20.244804Z",
     "shell.execute_reply.started": "2022-10-27T14:23:20.149549Z"
    },
    "tags": []
   },
   "outputs": [
    {
     "data": {
      "application/vnd.jupyter.widget-view+json": {
       "model_id": "e9600caf5cac415c84718babb50aac39",
       "version_major": 2,
       "version_minor": 0
      },
      "text/plain": [
       "VBox()"
      ]
     },
     "metadata": {},
     "output_type": "display_data"
    },
    {
     "data": {
      "application/vnd.jupyter.widget-view+json": {
       "model_id": "",
       "version_major": 2,
       "version_minor": 0
      },
      "text/plain": [
       "FloatProgress(value=0.0, bar_style='info', description='Progress:', layout=Layout(height='25px', width='50%'),…"
      ]
     },
     "metadata": {},
     "output_type": "display_data"
    }
   ],
   "source": [
    "def load_data(size='small'):\n",
    "    # Loads the data for this question. Do not change this function.\n",
    "    # This function should only be called with the parameter 'small' or 'large'\n",
    "\n",
    "    if size != 'small' and size != 'large':\n",
    "        print(\"Invalid size parameter provided. Use only 'small' or 'large'.\")\n",
    "        return\n",
    "\n",
    "    input_bucket = \"s3://cse6242-hw3-q3\"\n",
    "\n",
    "    # Load Trip Data\n",
    "    trip_path = '/' + size + '/yellow_tripdata*'\n",
    "    trips = spark.read.csv(input_bucket + trip_path,\n",
    "                           header=True,\n",
    "                           inferSchema=True)\n",
    "    print(\"Trip Count: \", trips.count()\n",
    "         )  # Prints # of trips (# of records, as each record is one trip)\n",
    "\n",
    "    # Load Lookup Data\n",
    "    lookup_path = '/' + size + '/taxi*'\n",
    "    lookup = spark.read.csv(input_bucket + lookup_path,\n",
    "                            header=True,\n",
    "                            inferSchema=True)\n",
    "\n",
    "    return trips, lookup\n",
    "\n",
    "\n",
    "def main(size, bucket):\n",
    "    # Runs your functions implemented above.\n",
    "\n",
    "    print(user())\n",
    "    trips, lookup = load_data(size=size)\n",
    "    trips = long_trips(trips)\n",
    "    mtrips = manhattan_trips(trips, lookup)\n",
    "    wp = weighted_profit(trips, mtrips)\n",
    "    final = final_output(wp, lookup)\n",
    "\n",
    "    # Outputs the results for you to visually see\n",
    "    final.show()\n",
    "\n",
    "    # Writes out as a CSV to your bucket.\n",
    "    final.write.csv(bucket)"
   ]
  },
  {
   "cell_type": "markdown",
   "metadata": {},
   "source": [
    "## 3b. [2 pts] Update the `long_trips()` function\n",
    "This function filters trips to keep only trips greater than or equal to 2 miles."
   ]
  },
  {
   "cell_type": "code",
   "execution_count": 5,
   "metadata": {
    "execution": {
     "iopub.execute_input": "2022-10-27T14:23:20.363130Z",
     "iopub.status.busy": "2022-10-27T14:23:20.362865Z",
     "iopub.status.idle": "2022-10-27T14:23:20.511308Z",
     "shell.execute_reply": "2022-10-27T14:23:20.510538Z",
     "shell.execute_reply.started": "2022-10-27T14:23:20.363091Z"
    },
    "tags": []
   },
   "outputs": [
    {
     "data": {
      "application/vnd.jupyter.widget-view+json": {
       "model_id": "31d6e096a37a46f7aa911b127b83847e",
       "version_major": 2,
       "version_minor": 0
      },
      "text/plain": [
       "VBox()"
      ]
     },
     "metadata": {},
     "output_type": "display_data"
    },
    {
     "data": {
      "application/vnd.jupyter.widget-view+json": {
       "model_id": "",
       "version_major": 2,
       "version_minor": 0
      },
      "text/plain": [
       "FloatProgress(value=0.0, bar_style='info', description='Progress:', layout=Layout(height='25px', width='50%'),…"
      ]
     },
     "metadata": {},
     "output_type": "display_data"
    }
   ],
   "source": [
    "#export\n",
    "def long_trips(trips):\n",
    "    # Returns a Dataframe (trips) with Schema the same as :trips:\n",
    "    trips = trips.filter(trips[\"trip_distance\"] >= 2)\n",
    "    return trips"
   ]
  },
  {
   "cell_type": "markdown",
   "metadata": {},
   "source": [
    "## 3c. [6 pts] Update the `manhattan_trips()` function\n",
    "\n",
    "This function determines the top 20 locations with a `DOLocationID` in manhattan by passenger_count (pcount).\n",
    "\n",
    "Example output formatting:\n",
    "\n",
    "```\n",
    "+--------------+--------+\n",
    "| DOLocationID | pcount |\n",
    "+--------------+--------+\n",
    "|             5|      15|\n",
    "|            16|      12| \n",
    "+--------------+--------+\n",
    "```"
   ]
  },
  {
   "cell_type": "code",
   "execution_count": 39,
   "metadata": {
    "execution": {
     "iopub.execute_input": "2022-10-27T16:02:22.221856Z",
     "iopub.status.busy": "2022-10-27T16:02:22.221619Z",
     "iopub.status.idle": "2022-10-27T16:02:22.284293Z",
     "shell.execute_reply": "2022-10-27T16:02:22.283672Z",
     "shell.execute_reply.started": "2022-10-27T16:02:22.221831Z"
    },
    "tags": []
   },
   "outputs": [
    {
     "data": {
      "application/vnd.jupyter.widget-view+json": {
       "model_id": "f33b978a01014d43ab1abb194ebf2155",
       "version_major": 2,
       "version_minor": 0
      },
      "text/plain": [
       "VBox()"
      ]
     },
     "metadata": {},
     "output_type": "display_data"
    },
    {
     "data": {
      "application/vnd.jupyter.widget-view+json": {
       "model_id": "",
       "version_major": 2,
       "version_minor": 0
      },
      "text/plain": [
       "FloatProgress(value=0.0, bar_style='info', description='Progress:', layout=Layout(height='25px', width='50%'),…"
      ]
     },
     "metadata": {},
     "output_type": "display_data"
    }
   ],
   "source": [
    "#export\n",
    "def manhattan_trips(trips, lookup):\n",
    "    # Returns a Dataframe (mtrips) with Schema: DOLocationID, pcount\n",
    "    mtrips = trips.join(lookup, trips[\"DOLocationID\"] == lookup[\"LocationID\"])\n",
    "    mtrips = mtrips.filter(mtrips[\"Borough\"] == \"Manhattan\")\n",
    "    mtrips = mtrips.withColumn('passenger_count',\n",
    "                               mtrips.passenger_count.cast('int'))\n",
    "    mtrips = mtrips.groupby(\"DOLocationID\").sum(\"passenger_count\").orderBy(\n",
    "        col(\"sum(passenger_count)\").desc()).withColumnRenamed(\n",
    "            \"sum(passenger_count)\", \"pcount\").limit(20)\n",
    "\n",
    "    return mtrips\n",
    "\n",
    "    #pass"
   ]
  },
  {
   "cell_type": "markdown",
   "metadata": {
    "tags": []
   },
   "source": [
    "## 3d. [6 pts] Update the `weighted_profit()` function\n",
    "This function should determine the average `total_amount`, the total count of trips, and the total count of trips ending in the top 20 destinations and return the `weighted_profit` as discussed in the homework document.\n",
    "\n",
    "Example output formatting:\n",
    "```\n",
    "+--------------+-------------------+\n",
    "| PULocationID |  weighted_profit  |\n",
    "+--------------+-------------------+\n",
    "|            18| 33.784444421924436| \n",
    "|            12| 21.124577637149223| \n",
    "+--------------+-------------------+\n",
    "```"
   ]
  },
  {
   "cell_type": "code",
   "execution_count": 21,
   "metadata": {
    "execution": {
     "iopub.execute_input": "2022-10-27T15:28:34.114206Z",
     "iopub.status.busy": "2022-10-27T15:28:34.113979Z",
     "iopub.status.idle": "2022-10-27T15:28:34.187404Z",
     "shell.execute_reply": "2022-10-27T15:28:34.186616Z",
     "shell.execute_reply.started": "2022-10-27T15:28:34.114182Z"
    },
    "tags": []
   },
   "outputs": [
    {
     "data": {
      "application/vnd.jupyter.widget-view+json": {
       "model_id": "f96b6d8fafb548e796fcc46abc6c25ea",
       "version_major": 2,
       "version_minor": 0
      },
      "text/plain": [
       "VBox()"
      ]
     },
     "metadata": {},
     "output_type": "display_data"
    },
    {
     "data": {
      "application/vnd.jupyter.widget-view+json": {
       "model_id": "",
       "version_major": 2,
       "version_minor": 0
      },
      "text/plain": [
       "FloatProgress(value=0.0, bar_style='info', description='Progress:', layout=Layout(height='25px', width='50%'),…"
      ]
     },
     "metadata": {},
     "output_type": "display_data"
    }
   ],
   "source": [
    "#export\n",
    "def weighted_profit(trips, mtrips):\n",
    "    # Returns a Dataframe (wp) with Schema: PULocationID, weighted_profit\n",
    "    # Note: Use decimal datatype for weighted profit (NOTE: DON'T USE FLOAT)\n",
    "    # Our grader will be only be checking the first 8 characters for each value in the dataframe\n",
    "\n",
    "    mtrips = mtrips.withColumnRenamed(\"DOLocationID\", \"DOLocationID_mtrips\")\n",
    "\n",
    "    wp = trips.join(mtrips, trips[\"DOLocationID\"] == mtrips[\"DOLocationID_mtrips\"], 'left')  #.groupby('PULocationID').agg({'DOLocationID':'count'})\n",
    "\n",
    "    wp = wp.groupby(\"PULocationID\").agg({\n",
    "        'total_amount': 'avg',\n",
    "        'tpep_pickup_datetime': 'count',\n",
    "        'DOLocationID_mtrips': 'count'\n",
    "    })\n",
    "\n",
    "    wp = wp.withColumnRenamed(\n",
    "        'count(DOLocationID_mtrips)', 'count_popular').withColumnRenamed(\n",
    "            'count(tpep_pickup_datetime)', 'count_total').withColumnRenamed(\n",
    "                'count(tpep_pickup_datetime)',\n",
    "                'count_total').withColumnRenamed('avg(total_amount)',\n",
    "                                                 'total_average')\n",
    "\n",
    "    wp = wp.withColumn('count_popular',\n",
    "                       wp.count_popular.cast('int')).withColumn(\n",
    "                           'count_total',\n",
    "                           wp.count_total.cast('int')).withColumn(\n",
    "                               'total_average',\n",
    "                               wp.total_average.cast('decimal(38, 10)'))\n",
    "\n",
    "    wp = wp.withColumn('proportion_of_popular',\n",
    "                       wp.count_popular / wp.count_total)\n",
    "\n",
    "    wp = wp.withColumn('weighted_profit',\n",
    "                       wp.proportion_of_popular * wp.total_average)\n",
    "\n",
    "    wp = wp.drop('count_popular', 'total_average', 'count_total',\n",
    "                 'proportion_of_popular')\n",
    "\n",
    "    return wp\n",
    "    #pass"
   ]
  },
  {
   "cell_type": "markdown",
   "metadata": {},
   "source": [
    "## 3e. [5 pts] Update the `final_output()` function\n",
    "This function will take the results of `weighted_profit`, links it to the `borough` and `zone` and returns the top 20 locations with the highest `weighted_profit`.\n",
    "\n",
    "Example output formatting:\n",
    "```\n",
    "+------------+---------+-------------------+\n",
    "|    Zone    | Borough |  weighted_profit  |\n",
    "+----------------------+-------------------+\n",
    "| JFK Airport|   Queens|  16.95897820117925|\n",
    "|     Jamaica|   Queens| 14.879835188762488|\n",
    "+------------+---------+-------------------+\n",
    "```"
   ]
  },
  {
   "cell_type": "code",
   "execution_count": 48,
   "metadata": {
    "execution": {
     "iopub.execute_input": "2022-10-27T16:26:20.993911Z",
     "iopub.status.busy": "2022-10-27T16:26:20.993673Z",
     "iopub.status.idle": "2022-10-27T16:26:21.053188Z",
     "shell.execute_reply": "2022-10-27T16:26:21.052588Z",
     "shell.execute_reply.started": "2022-10-27T16:26:20.993886Z"
    },
    "tags": []
   },
   "outputs": [
    {
     "data": {
      "application/vnd.jupyter.widget-view+json": {
       "model_id": "68d8a4645f764c3b8a0d11688241d7cb",
       "version_major": 2,
       "version_minor": 0
      },
      "text/plain": [
       "VBox()"
      ]
     },
     "metadata": {},
     "output_type": "display_data"
    },
    {
     "data": {
      "application/vnd.jupyter.widget-view+json": {
       "model_id": "",
       "version_major": 2,
       "version_minor": 0
      },
      "text/plain": [
       "FloatProgress(value=0.0, bar_style='info', description='Progress:', layout=Layout(height='25px', width='50%'),…"
      ]
     },
     "metadata": {},
     "output_type": "display_data"
    }
   ],
   "source": [
    "#export\n",
    "def final_output(wp, lookup):\n",
    "    # Returns a Dataframe (final) with Schema: Zone, Borough, weighted_profit\n",
    "    # Note: Use decimal datatype for weighted profit (NOTE: DON'T USE FLOAT)\n",
    "    # Our grader will be only be checking the first 8 characters for each value in the dataframe\n",
    "\n",
    "    final = wp.join(lookup, wp[\"PULocationID\"] == lookup[\"LocationID\"]).orderBy(\n",
    "        col(\"weighted_profit\").desc())\n",
    "\n",
    "    final = final.select('Zone', 'Borough', 'weighted_profit')\n",
    "\n",
    "    final = final.limit(20)\n",
    "\n",
    "    final = final.coalesce(1)\n",
    "\n",
    "    return final\n",
    "    #pass"
   ]
  },
  {
   "cell_type": "markdown",
   "metadata": {
    "tags": []
   },
   "source": [
    "#### Testing\n",
    "\n",
    "<div class=\"alert alert-block alert-info\">\n",
    "    You may use the below cell for any additional testing you need to do, however any code implemented below will not be run or used when grading.\n",
    "</div>"
   ]
  },
  {
   "cell_type": "code",
   "execution_count": 20,
   "metadata": {
    "execution": {
     "iopub.execute_input": "2022-10-23T02:53:20.071284Z",
     "iopub.status.busy": "2022-10-23T02:53:20.071053Z",
     "iopub.status.idle": "2022-10-23T02:53:20.128673Z",
     "shell.execute_reply": "2022-10-23T02:53:20.128069Z",
     "shell.execute_reply.started": "2022-10-23T02:53:20.071260Z"
    },
    "tags": []
   },
   "outputs": [
    {
     "data": {
      "application/vnd.jupyter.widget-view+json": {
       "model_id": "d39e988697bc45cdad32941de70eccc0",
       "version_major": 2,
       "version_minor": 0
      },
      "text/plain": [
       "VBox()"
      ]
     },
     "metadata": {},
     "output_type": "display_data"
    },
    {
     "data": {
      "application/vnd.jupyter.widget-view+json": {
       "model_id": "",
       "version_major": 2,
       "version_minor": 0
      },
      "text/plain": [
       "FloatProgress(value=0.0, bar_style='info', description='Progress:', layout=Layout(height='25px', width='50%'),…"
      ]
     },
     "metadata": {},
     "output_type": "display_data"
    }
   ],
   "source": [
    "#wp = weighted_profit(trips, mtrips)\n",
    "\n",
    "#wp.show(5)\n",
    "\n",
    "#final_output(wp, lookup).show(20)"
   ]
  },
  {
   "cell_type": "code",
   "execution_count": 162,
   "metadata": {
    "execution": {
     "iopub.execute_input": "2022-10-23T02:15:36.091726Z",
     "iopub.status.busy": "2022-10-23T02:15:36.091506Z",
     "iopub.status.idle": "2022-10-23T02:15:41.876815Z",
     "shell.execute_reply": "2022-10-23T02:15:41.875652Z",
     "shell.execute_reply.started": "2022-10-23T02:15:36.091702Z"
    },
    "tags": []
   },
   "outputs": [
    {
     "data": {
      "application/vnd.jupyter.widget-view+json": {
       "model_id": "168c9593eec94855b3d0adeb1a35935d",
       "version_major": 2,
       "version_minor": 0
      },
      "text/plain": [
       "VBox()"
      ]
     },
     "metadata": {},
     "output_type": "display_data"
    },
    {
     "data": {
      "application/vnd.jupyter.widget-view+json": {
       "model_id": "b4c6a8f2725a4484a7ee0ead96a86191",
       "version_major": 2,
       "version_minor": 0
      },
      "text/plain": [
       "FloatProgress(value=0.0, bar_style='info', description='Progress:', layout=Layout(height='25px', width='50%'),…"
      ]
     },
     "metadata": {},
     "output_type": "display_data"
    },
    {
     "name": "stderr",
     "output_type": "stream",
     "text": [
      "Interrupted by user\n"
     ]
    }
   ],
   "source": [
    "#lookup.show(5)"
   ]
  },
  {
   "cell_type": "code",
   "execution_count": 49,
   "metadata": {
    "execution": {
     "iopub.execute_input": "2022-10-27T16:26:22.954263Z",
     "iopub.status.busy": "2022-10-27T16:26:22.954034Z",
     "iopub.status.idle": "2022-10-27T16:26:54.318290Z",
     "shell.execute_reply": "2022-10-27T16:26:54.317483Z",
     "shell.execute_reply.started": "2022-10-27T16:26:22.954239Z"
    },
    "tags": []
   },
   "outputs": [
    {
     "data": {
      "application/vnd.jupyter.widget-view+json": {
       "model_id": "8aceb01e24cc42419221f7d69bf386c3",
       "version_major": 2,
       "version_minor": 0
      },
      "text/plain": [
       "VBox()"
      ]
     },
     "metadata": {},
     "output_type": "display_data"
    },
    {
     "data": {
      "application/vnd.jupyter.widget-view+json": {
       "model_id": "",
       "version_major": 2,
       "version_minor": 0
      },
      "text/plain": [
       "FloatProgress(value=0.0, bar_style='info', description='Progress:', layout=Layout(height='25px', width='50%'),…"
      ]
     },
     "metadata": {},
     "output_type": "display_data"
    },
    {
     "name": "stdout",
     "output_type": "stream",
     "text": [
      "+--------------------+-------------+------------------+\n",
      "|                Zone|      Borough|   weighted_profit|\n",
      "+--------------------+-------------+------------------+\n",
      "|Arrochar/Fort Wad...|Staten Island|31.784444444444436|\n",
      "|     Freshkills Park|Staten Island|29.342499999999998|\n",
      "|       Port Richmond|Staten Island|24.357777777777777|\n",
      "|Flushing Meadows-...|       Queens|24.330137731666976|\n",
      "|        Baisley Park|       Queens| 23.62469433349845|\n",
      "|     Randalls Island|    Manhattan| 23.12457751514923|\n",
      "|       South Jamaica|       Queens|22.174114939432254|\n",
      "|     Mariners Harbor|Staten Island|21.786556927297667|\n",
      "|Saint George/New ...|Staten Island|21.491893491124262|\n",
      "|       Arden Heights|Staten Island|          20.29625|\n",
      "|        Astoria Park|       Queens|19.965360000000004|\n",
      "|   LaGuardia Airport|       Queens|17.923153949607126|\n",
      "|  Murray Hill-Queens|       Queens|17.585450424382717|\n",
      "|         JFK Airport|       Queens|16.958978201179246|\n",
      "|             Jamaica|       Queens|14.879835188762488|\n",
      "|Governor's Island...|    Manhattan|          14.79625|\n",
      "|        Country Club|        Bronx| 14.61319526627219|\n",
      "|Springfield Garde...|       Queens|14.337175219423662|\n",
      "|             Maspeth|       Queens| 13.94043716069096|\n",
      "|Briarwood/Jamaica...|       Queens|13.327861288088652|\n",
      "+--------------------+-------------+------------------+"
     ]
    }
   ],
   "source": [
    "# trips, lookup = load_data()\n",
    "# trips = long_trips(trips)\n",
    "# mtrips = manhattan_trips(trips, lookup)\n",
    "# wp = weighted_profit(trips, mtrips)\n",
    "final_output(wp, lookup).show()"
   ]
  },
  {
   "cell_type": "code",
   "execution_count": 40,
   "metadata": {
    "execution": {
     "iopub.execute_input": "2022-10-27T16:02:35.068032Z",
     "iopub.status.busy": "2022-10-27T16:02:35.067769Z",
     "iopub.status.idle": "2022-10-27T16:02:54.406938Z",
     "shell.execute_reply": "2022-10-27T16:02:54.406167Z",
     "shell.execute_reply.started": "2022-10-27T16:02:35.068004Z"
    },
    "tags": []
   },
   "outputs": [
    {
     "data": {
      "application/vnd.jupyter.widget-view+json": {
       "model_id": "21aa4039358440a98ba3df34b3c85dc8",
       "version_major": 2,
       "version_minor": 0
      },
      "text/plain": [
       "VBox()"
      ]
     },
     "metadata": {},
     "output_type": "display_data"
    },
    {
     "data": {
      "application/vnd.jupyter.widget-view+json": {
       "model_id": "",
       "version_major": 2,
       "version_minor": 0
      },
      "text/plain": [
       "FloatProgress(value=0.0, bar_style='info', description='Progress:', layout=Layout(height='25px', width='50%'),…"
      ]
     },
     "metadata": {},
     "output_type": "display_data"
    },
    {
     "name": "stdout",
     "output_type": "stream",
     "text": [
      "+------------+------+\n",
      "|DOLocationID|pcount|\n",
      "+------------+------+\n",
      "|         236|147086|\n",
      "|         161|117642|\n",
      "|         230|112155|\n",
      "|         239|104164|\n",
      "|         162|101209|\n",
      "|         238|100189|\n",
      "|          48| 98784|\n",
      "|         170| 96109|\n",
      "|         142| 95053|\n",
      "|         231| 94621|\n",
      "|         263| 94548|\n",
      "|          79| 94421|\n",
      "|         237| 90335|\n",
      "|         141| 90061|\n",
      "|         140| 84212|\n",
      "|          68| 79559|\n",
      "|         234| 75786|\n",
      "|         186| 73863|\n",
      "|         163| 73145|\n",
      "|          13| 70693|\n",
      "+------------+------+"
     ]
    }
   ],
   "source": [
    "manhattan_trips(trips, lookup).show()"
   ]
  },
  {
   "cell_type": "code",
   "execution_count": 41,
   "metadata": {
    "execution": {
     "iopub.execute_input": "2022-10-27T16:05:14.281891Z",
     "iopub.status.busy": "2022-10-27T16:05:14.281663Z",
     "iopub.status.idle": "2022-10-27T16:15:17.287428Z",
     "shell.execute_reply": "2022-10-27T16:15:17.286744Z",
     "shell.execute_reply.started": "2022-10-27T16:05:14.281866Z"
    },
    "tags": []
   },
   "outputs": [
    {
     "data": {
      "application/vnd.jupyter.widget-view+json": {
       "model_id": "b9609ae265084b29a4b86e45f438d0e9",
       "version_major": 2,
       "version_minor": 0
      },
      "text/plain": [
       "VBox()"
      ]
     },
     "metadata": {},
     "output_type": "display_data"
    },
    {
     "data": {
      "application/vnd.jupyter.widget-view+json": {
       "model_id": "",
       "version_major": 2,
       "version_minor": 0
      },
      "text/plain": [
       "FloatProgress(value=0.0, bar_style='info', description='Progress:', layout=Layout(height='25px', width='50%'),…"
      ]
     },
     "metadata": {},
     "output_type": "display_data"
    },
    {
     "name": "stdout",
     "output_type": "stream",
     "text": [
      "mgrillo3\n",
      "Trip Count:  187203269\n",
      "+--------------------+-------------+---------------+\n",
      "|                Zone|      Borough|weighted_profit|\n",
      "+--------------------+-------------+---------------+\n",
      "|        Baisley Park|       Queens|  29.3604557791|\n",
      "|Flushing Meadows-...|       Queens|  27.3048457336|\n",
      "|       South Jamaica|       Queens|  26.2949162399|\n",
      "|     Randalls Island|    Manhattan|  24.1509899402|\n",
      "|        Astoria Park|       Queens|  21.7064171121|\n",
      "|Briarwood/Jamaica...|       Queens|  19.9450646318|\n",
      "|Springfield Garde...|       Queens|  19.4683092888|\n",
      "|             Jamaica|       Queens|  19.2839430001|\n",
      "|              Corona|       Queens|  18.2287692482|\n",
      "|   LaGuardia Airport|       Queens|  18.1813388084|\n",
      "|         Jamaica Bay|       Queens|  17.1005294468|\n",
      "|             Maspeth|       Queens|  17.0054506401|\n",
      "|Eltingville/Annad...|Staten Island|  16.8377647569|\n",
      "|         JFK Airport|       Queens|  16.7777253482|\n",
      "|        Battery Park|    Manhattan|  12.8497803111|\n",
      "| Morningside Heights|    Manhattan|  12.4536980266|\n",
      "|   Battery Park City|    Manhattan|  12.4488484044|\n",
      "|Greenwich Village...|    Manhattan|  12.4469498917|\n",
      "|       Rikers Island|        Bronx|  12.3063000000|\n",
      "|  World Trade Center|    Manhattan|  12.2954119241|\n",
      "+--------------------+-------------+---------------+"
     ]
    }
   ],
   "source": [
    "main('large', 's3://cse6242-mgrillo3/output-large')"
   ]
  },
  {
   "cell_type": "code",
   "execution_count": 12,
   "metadata": {
    "execution": {
     "iopub.execute_input": "2022-10-23T02:44:08.587217Z",
     "iopub.status.busy": "2022-10-23T02:44:08.586985Z",
     "iopub.status.idle": "2022-10-23T02:44:08.857023Z",
     "shell.execute_reply": "2022-10-23T02:44:08.856378Z",
     "shell.execute_reply.started": "2022-10-23T02:44:08.587193Z"
    },
    "tags": []
   },
   "outputs": [
    {
     "data": {
      "application/vnd.jupyter.widget-view+json": {
       "model_id": "",
       "version_major": 2,
       "version_minor": 0
      },
      "text/plain": [
       "VBox()"
      ]
     },
     "metadata": {},
     "output_type": "display_data"
    },
    {
     "data": {
      "application/vnd.jupyter.widget-view+json": {
       "model_id": "",
       "version_major": 2,
       "version_minor": 0
      },
      "text/plain": [
       "FloatProgress(value=0.0, bar_style='info', description='Progress:', layout=Layout(height='25px', width='50%'),…"
      ]
     },
     "metadata": {},
     "output_type": "display_data"
    }
   ],
   "source": [
    "#mtrips = manhattan_trips(trips, lookup)\n",
    "\n",
    "wp = weighted_profit(trips, mtrips)\n",
    "\n",
    "#FUNCIONO NO SE PORQUE PERO NO IMPORTA JAAAAAA"
   ]
  }
 ],
 "metadata": {
  "kernelspec": {
   "display_name": "Python 3 (ipykernel)",
   "language": "python",
   "name": "python3"
  },
  "language_info": {
   "codemirror_mode": {
    "name": "ipython",
    "version": 3
   },
   "file_extension": ".py",
   "mimetype": "text/x-python",
   "name": "python",
   "nbconvert_exporter": "python",
   "pygments_lexer": "ipython3",
   "version": "3.9.12"
  }
 },
 "nbformat": 4,
 "nbformat_minor": 4
}
