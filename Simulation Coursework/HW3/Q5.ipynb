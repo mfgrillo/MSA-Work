{
 "cells": [
  {
   "cell_type": "code",
   "execution_count": 1,
   "id": "52d52d4d",
   "metadata": {},
   "outputs": [],
   "source": [
    "import numpy as np\n",
    "import scipy.stats as st\n",
    "import matplotlib.pyplot as plt"
   ]
  },
  {
   "cell_type": "markdown",
   "id": "c7216bfb",
   "metadata": {},
   "source": [
    "5.a"
   ]
  },
  {
   "cell_type": "code",
   "execution_count": 2,
   "id": "61a26d65",
   "metadata": {},
   "outputs": [],
   "source": [
    "def FiveA(nt, mu, phi):\n",
    "    # Generate constants\n",
    "    sqrt_nt = np.sqrt(nt)\n",
    "    err_u = 0\n",
    "    err_sd = np.sqrt(1 - phi**2)\n",
    "    asymp_sd = np.sqrt((1+phi)/(1-phi))\n",
    "    term_1_z = (1/(asymp_sd*sqrt_nt))\n",
    "    x_0 = np.random.normal(mu, 1)\n",
    "    # Generate 0 vectors to be populated\n",
    "    X_i = np.zeros(nt)\n",
    "    Z_n = np.zeros(nt)\n",
    "    X_axis = np.zeros(nt)\n",
    "    # Seed first values for X_i and Z_n\n",
    "    X_i[0] = x_0\n",
    "    Z_n[0] = term_1_z*np.sum(X_i)\n",
    "    \n",
    "    for i in range(1, nt):\n",
    "        error = np.random.normal(err_u, err_sd)\n",
    "        X_i[i] = phi*(X_i[i-1]) + error\n",
    "        Z_n[i] = term_1_z*np.sum(X_i)\n",
    "        X_axis[i] = i/nt\n",
    "    \n",
    "    return (X_i, Z_n, X_axis)"
   ]
  },
  {
   "cell_type": "code",
   "execution_count": 5,
   "id": "3780a585",
   "metadata": {},
   "outputs": [],
   "source": [
    "FiveA_resp = FiveA(100000, 0, 0.9)"
   ]
  },
  {
   "cell_type": "code",
   "execution_count": 6,
   "id": "de07cfda",
   "metadata": {},
   "outputs": [
    {
     "data": {
      "image/png": "[encoded data removed]",
      "text/plain": [
       "<Figure size 432x288 with 1 Axes>"
      ]
     },
     "metadata": {
      "needs_background": "light"
     },
     "output_type": "display_data"
    }
   ],
   "source": [
    "plt.plot(FiveA_resp[2], FiveA_resp[1])\n",
    "plt.title('Z_n values plotted')\n",
    "plt.ylabel('Z_n')\n",
    "plt.savefig('5a.png')\n",
    "plt.show()"
   ]
  },
  {
   "cell_type": "markdown",
   "id": "40b26ed9",
   "metadata": {},
   "source": [
    "5.b"
   ]
  },
  {
   "cell_type": "code",
   "execution_count": 3,
   "id": "ccd28c81",
   "metadata": {},
   "outputs": [],
   "source": [
    "def Fiveb(reps, n):\n",
    "    rep_results = np.zeros(reps)\n",
    "    phi = 0.9\n",
    "    err_u = 0\n",
    "    err_sd = np.sqrt(1 - phi**2)\n",
    "    sqrt_nt = np.sqrt(n/2)\n",
    "    err_u = 0\n",
    "    err_sd = np.sqrt(1 - phi**2)\n",
    "    asymp_sd = np.sqrt((1+phi)/(1-phi))\n",
    "    term_1_z = (1/(asymp_sd*sqrt_nt))\n",
    "    for j in range(reps):\n",
    "        # generating x_i\n",
    "        x_0 = np.random.normal(0, 1)\n",
    "        # Generate 0 vectors to be populated\n",
    "        X_i = np.zeros(int(n/2))\n",
    "        # Seed first values for X_i\n",
    "        X_i[0] = x_0\n",
    "        phi = 0.9\n",
    "        \n",
    "        for i in range(int(n/2)):\n",
    "            error = np.random.normal(err_u, err_sd)\n",
    "            X_i[i] = phi*(X_i[i-1]) + error\n",
    "        \n",
    "        rep_results[j] = term_1_z*np.sum(X_i)\n",
    "    \n",
    "    return rep_results"
   ]
  },
  {
   "cell_type": "code",
   "execution_count": 10,
   "id": "fdd77cb4",
   "metadata": {},
   "outputs": [],
   "source": [
    "Fiveb_resp = Fiveb(400, 100000)"
   ]
  },
  {
   "cell_type": "code",
   "execution_count": 14,
   "id": "5f499381",
   "metadata": {},
   "outputs": [
    {
     "data": {
      "image/png": "[encoded data removed]",
      "text/plain": [
       "<Figure size 432x288 with 1 Axes>"
      ]
     },
     "metadata": {
      "needs_background": "light"
     },
     "output_type": "display_data"
    }
   ],
   "source": [
    "plt.hist(Fiveb_resp, bins=20)\n",
    "plt.title('400 realizations of Z_n')\n",
    "plt.ylabel('Z value')\n",
    "plt.savefig('5b.png')\n",
    "plt.show()"
   ]
  },
  {
   "cell_type": "code",
   "execution_count": 15,
   "id": "8778d77d",
   "metadata": {},
   "outputs": [
    {
     "name": "stdout",
     "output_type": "stream",
     "text": [
      "Test statistic: 0.19181827728380085\n",
      "Critical value at 0.05: 0.779\n",
      "Since the test statistic is below the critical value, we fail to reject H0.\n"
     ]
    }
   ],
   "source": [
    "anderson_b = st.anderson(Fiveb_resp)\n",
    "print(\"Test statistic:\", anderson_b[0])\n",
    "print(\"Critical value at 0.05:\", anderson_b[1][2])\n",
    "if anderson_b[0] < anderson_b[1][2]:\n",
    "    print(\"Since the test statistic is below the critical value, we fail to reject H0.\")"
   ]
  },
  {
   "cell_type": "markdown",
   "id": "405face6",
   "metadata": {},
   "source": [
    "6.a"
   ]
  },
  {
   "cell_type": "code",
   "execution_count": 38,
   "id": "2f9088f2",
   "metadata": {},
   "outputs": [
    {
     "data": {
      "text/plain": [
       "0.3225"
      ]
     },
     "execution_count": 38,
     "metadata": {},
     "output_type": "execute_result"
    }
   ],
   "source": [
    "counter=0\n",
    "for i in range(400):\n",
    "    sqrt_nt = np.sqrt(10000)\n",
    "    err_u = 0\n",
    "    err_sd = np.sqrt(1 - 0.9**2)\n",
    "    x_0 = np.random.normal(10, 1)\n",
    "    # Generate 0 vectors to be populated\n",
    "    X_i = np.zeros(10000)\n",
    "    # Seed first value for X_i\n",
    "    X_i[0] = x_0\n",
    "\n",
    "    for i in range(1, 10000):\n",
    "        error = np.random.normal(err_u, err_sd)\n",
    "        X_i[i] = 10 + 0.9*(X_i[i-1]-10) + error\n",
    "    mean = np.mean(X_i)\n",
    "    t = (st.t.ppf(.95, 10000-1))*((np.std(X_i))/np.sqrt(10000))\n",
    "    if mean-t <= 10 <= mean+t:\n",
    "        counter += 1\n",
    "counter/400"
   ]
  },
  {
   "cell_type": "markdown",
   "id": "fc1b9dbe",
   "metadata": {},
   "source": [
    "6.b"
   ]
  },
  {
   "cell_type": "code",
   "execution_count": 39,
   "id": "6a4d1cfd",
   "metadata": {},
   "outputs": [
    {
     "data": {
      "text/plain": [
       "0.31"
      ]
     },
     "execution_count": 39,
     "metadata": {},
     "output_type": "execute_result"
    }
   ],
   "source": [
    "counter=0\n",
    "for i in range(400):\n",
    "    sqrt_nt = np.sqrt(100000)\n",
    "    err_u = 0\n",
    "    err_sd = np.sqrt(1 - 0.9**2)\n",
    "    x_0 = np.random.normal(10, 1)\n",
    "    # Generate 0 vectors to be populated\n",
    "    X_i = np.zeros(100000)\n",
    "    # Seed first value for X_i\n",
    "    X_i[0] = x_0\n",
    "\n",
    "    for i in range(1, 100000):\n",
    "        error = np.random.normal(err_u, err_sd)\n",
    "        X_i[i] = 10 + 0.9*(X_i[i-1]-10) + error\n",
    "    mean = np.mean(X_i)\n",
    "    t = (st.t.ppf(.95, 100000-1))*((np.std(X_i))/np.sqrt(100000))\n",
    "    if mean-t <= 10 <= mean+t:\n",
    "        counter += 1\n",
    "counter/400"
   ]
  },
  {
   "cell_type": "markdown",
   "id": "69fd64c7",
   "metadata": {},
   "source": [
    "6.c"
   ]
  },
  {
   "cell_type": "code",
   "execution_count": 40,
   "id": "640d5009",
   "metadata": {},
   "outputs": [
    {
     "data": {
      "text/plain": [
       "0.9375"
      ]
     },
     "execution_count": 40,
     "metadata": {},
     "output_type": "execute_result"
    }
   ],
   "source": [
    "z = st.norm.ppf(1-.05/2)\n",
    "std_dev = np.sqrt((1+0.9)/(1-0.9))\n",
    "\n",
    "counter=0\n",
    "for i in range(400):\n",
    "    sqrt_nt = np.sqrt(10000)\n",
    "    err_u = 0\n",
    "    err_sd = np.sqrt(1 - 0.9**2)\n",
    "    x_0 = np.random.normal(10, 1)\n",
    "    # Generate 0 vectors to be populated\n",
    "    X_i = np.zeros(10000)\n",
    "    # Seed first value for X_i\n",
    "    X_i[0] = x_0\n",
    "\n",
    "    for i in range(1, 10000):\n",
    "        error = np.random.normal(err_u, err_sd)\n",
    "        X_i[i] = 10 + 0.9*(X_i[i-1]-10) + error\n",
    "    mean = np.mean(X_i)\n",
    "    z_final = z*(std_dev/np.sqrt(10000))\n",
    "    if mean-z_final <= 10 <= mean+z_final:\n",
    "        counter += 1\n",
    "counter/400"
   ]
  },
  {
   "cell_type": "markdown",
   "id": "f4c81358",
   "metadata": {},
   "source": [
    "7"
   ]
  },
  {
   "cell_type": "code",
   "execution_count": 41,
   "id": "7bf0ee58",
   "metadata": {},
   "outputs": [
    {
     "name": "stdout",
     "output_type": "stream",
     "text": [
      "1.0\n",
      "1.0\n"
     ]
    }
   ],
   "source": [
    "counter=0\n",
    "for i in range(400):\n",
    "    sqrt_nt = np.sqrt(10000)\n",
    "    err_u = 0\n",
    "    err_sd = np.sqrt(1 - (-0.9)**2)\n",
    "    x_0 = np.random.normal(10, 1)\n",
    "    # Generate 0 vectors to be populated\n",
    "    X_i = np.zeros(10000)\n",
    "    # Seed first value for X_i\n",
    "    X_i[0] = x_0\n",
    "\n",
    "    for i in range(1, 10000):\n",
    "        error = np.random.normal(err_u, err_sd)\n",
    "        X_i[i] = 10 -0.9*(X_i[i-1]-10) + error\n",
    "    mean = np.mean(X_i)\n",
    "    t = (st.t.ppf(.95, 10000-1))*((np.std(X_i))/np.sqrt(10000))\n",
    "    if mean-t <= 10 <= mean+t:\n",
    "        counter += 1\n",
    "print(counter/400)\n",
    "\n",
    "counter=0\n",
    "for i in range(400):\n",
    "    sqrt_nt = np.sqrt(100000)\n",
    "    err_u = 0\n",
    "    err_sd = np.sqrt(1 - (-0.9)**2)\n",
    "    x_0 = np.random.normal(10, 1)\n",
    "    # Generate 0 vectors to be populated\n",
    "    X_i = np.zeros(100000)\n",
    "    # Seed first value for X_i\n",
    "    X_i[0] = x_0\n",
    "\n",
    "    for i in range(1, 100000):\n",
    "        error = np.random.normal(err_u, err_sd)\n",
    "        X_i[i] = 10 -0.9*(X_i[i-1]-10) + error\n",
    "    mean = np.mean(X_i)\n",
    "    t = (st.t.ppf(.95, 100000-1))*((np.std(X_i))/np.sqrt(100000))\n",
    "    if mean-t <= 10 <= mean+t:\n",
    "        counter += 1\n",
    "print(counter/400)"
   ]
  },
  {
   "cell_type": "code",
   "execution_count": null,
   "id": "356e0697",
   "metadata": {},
   "outputs": [],
   "source": []
  }
 ],
 "metadata": {
  "kernelspec": {
   "display_name": "Python 3 (ipykernel)",
   "language": "python",
   "name": "python3"
  },
  "language_info": {
   "codemirror_mode": {
    "name": "ipython",
    "version": 3
   },
   "file_extension": ".py",
   "mimetype": "text/x-python",
   "name": "python",
   "nbconvert_exporter": "python",
   "pygments_lexer": "ipython3",
   "version": "3.9.12"
  }
 },
 "nbformat": 4,
 "nbformat_minor": 5
}
